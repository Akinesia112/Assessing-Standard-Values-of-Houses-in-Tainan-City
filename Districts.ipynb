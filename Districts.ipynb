{
 "cells": [
  {
   "cell_type": "code",
   "execution_count": 2,
   "metadata": {},
   "outputs": [],
   "source": [
    "import pandas as pd\n",
    "import os\n",
    "TAINAN_DIST = ['新營','鹽水','白河','柳營','後壁','東山','麻豆','下營','六甲','官田','大內','佳里','學甲','西港','七股','將軍','北門','新化','新市','善化','安定','山上','玉井','楠西','南化','左鎮','仁德','歸仁','關廟','龍崎','永康','東區','南區','中西區','北區','安南','安平']\n",
    "\n",
    "for DIST in TAINAN_DIST:\n",
    "    try:\n",
    "        os.mkdir('E:\\市府地段率專案\\分區資料_綜合\\\\'+DIST)\n",
    "    except:\n",
    "        pass"
   ]
  },
  {
   "cell_type": "markdown",
   "metadata": {},
   "source": [
    "## 公園"
   ]
  },
  {
   "cell_type": "code",
   "execution_count": 21,
   "metadata": {},
   "outputs": [
    {
     "name": "stdout",
     "output_type": "stream",
     "text": [
      "新營 11\n",
      "鹽水 10\n",
      "白河 3\n",
      "柳營 2\n",
      "後壁 1\n",
      "東山 1\n",
      "麻豆 3\n",
      "下營 3\n",
      "六甲 2\n",
      "官田 1\n",
      "大內 1\n",
      "佳里 2\n",
      "學甲 5\n",
      "西港 2\n",
      "七股 1\n",
      "將軍 1\n",
      "北門 1\n",
      "新化 3\n",
      "新市 4\n",
      "善化 7\n",
      "安定 1\n",
      "山上 2\n",
      "玉井 1\n",
      "楠西 2\n",
      "南化 1\n",
      "左鎮 1\n",
      "仁德 17\n",
      "歸仁 16\n",
      "關廟 2\n",
      "龍崎 1\n",
      "永康 29\n",
      "東區 44\n",
      "南區 55\n",
      "中西區 23\n",
      "北區 52\n",
      "安南 76\n",
      "安平 39\n"
     ]
    }
   ],
   "source": [
    "df = pd.read_csv('E:\\市府地段率專案\\抓到的資料\\公園\\台南市公園基本資料.csv', encoding='utf-8')\n",
    "for DIST in TAINAN_DIST:\n",
    "    # if not ('臺南市' in address or '台南市' in address):\n",
    "    DIST_df = df[df['所在轄區'].str.contains(DIST)]\n",
    "    if DIST == '南區':\n",
    "        DIST_df = DIST_df[DIST_df['所在轄區']=='南區']\n",
    "    # save\n",
    "    try:\n",
    "        os.mkdir('E:\\市府地段率專案\\分區資料_綜合\\\\'+DIST)\n",
    "    except:\n",
    "        pass\n",
    "    DIST_df.to_csv('E:\\市府地段率專案\\分區資料_綜合\\\\'+DIST+'\\公園.csv',index=False, encoding='utf-8-sig')\n",
    "    print(DIST,len(DIST_df))"
   ]
  },
  {
   "cell_type": "markdown",
   "metadata": {},
   "source": [
    "## 加油站(網路找的)"
   ]
  },
  {
   "cell_type": "code",
   "execution_count": 27,
   "metadata": {},
   "outputs": [
    {
     "name": "stdout",
     "output_type": "stream",
     "text": [
      "新營 8\n",
      "鹽水 1\n",
      "白河 4\n",
      "柳營 4\n",
      "後壁 6\n",
      "東山 4\n",
      "麻豆 8\n",
      "下營 2\n",
      "六甲 3\n",
      "官田 7\n",
      "大內 1\n",
      "佳里 6\n",
      "學甲 3\n",
      "西港 2\n",
      "七股 5\n",
      "將軍 6\n",
      "北門 1\n",
      "新化 4\n",
      "新市 7\n",
      "善化 8\n",
      "安定 6\n",
      "山上 2\n",
      "玉井 4\n",
      "楠西 2\n",
      "南化 2\n",
      "左鎮 2\n",
      "仁德 14\n",
      "歸仁 11\n",
      "關廟 4\n",
      "龍崎 3\n",
      "永康 20\n",
      "東區 10\n",
      "南區 8\n",
      "中西區 7\n",
      "北區 7\n",
      "安南 14\n",
      "安平 6\n"
     ]
    }
   ],
   "source": [
    "df = pd.read_csv('E:\\市府地段率專案\\抓到的資料\\加油站服務資訊\\getStationInfo_XML.csv', encoding='utf-8')\n",
    "for DIST in TAINAN_DIST:\n",
    "    # if not ('臺南市' in address or '台南市' in address):\n",
    "    DIST_df = df[df['縣市'].str.contains('台南市')]\n",
    "    DIST_df = DIST_df[DIST_df['鄉鎮區'].str.contains(DIST)]\n",
    "    if DIST == '南區':\n",
    "        DIST_df = DIST_df[DIST_df['鄉鎮區']=='南區']\n",
    "    DIST_df.to_csv('E:\\市府地段率專案\\分區資料_綜合\\\\'+DIST+'\\加油站服務資訊.csv',index=False, encoding='utf-8-sig')\n",
    "    print(DIST,len(DIST_df))"
   ]
  },
  {
   "cell_type": "markdown",
   "metadata": {},
   "source": [
    "## 停車場"
   ]
  },
  {
   "cell_type": "code",
   "execution_count": 28,
   "metadata": {},
   "outputs": [
    {
     "name": "stdout",
     "output_type": "stream",
     "text": [
      "新營 18\n",
      "鹽水 3\n",
      "白河 4\n",
      "柳營 9\n",
      "後壁 1\n",
      "東山 1\n",
      "麻豆 5\n",
      "下營 0\n",
      "六甲 2\n",
      "官田 1\n",
      "大內 2\n",
      "佳里 7\n",
      "學甲 1\n",
      "西港 1\n",
      "七股 1\n",
      "將軍 1\n",
      "北門 5\n",
      "新化 4\n",
      "新市 29\n",
      "善化 30\n",
      "安定 0\n",
      "山上 1\n",
      "玉井 1\n",
      "楠西 4\n",
      "南化 1\n",
      "左鎮 1\n",
      "仁德 15\n",
      "歸仁 27\n",
      "關廟 2\n",
      "龍崎 0\n",
      "永康 67\n",
      "東區 95\n",
      "南區 34\n",
      "中西區 80\n",
      "北區 50\n",
      "安南 35\n",
      "安平 58\n"
     ]
    }
   ],
   "source": [
    "df1 = pd.read_csv('E:\\市府地段率專案\\抓到的資料\\台南市停車場資料\\台南市公有免費停車場.csv', encoding='utf-8')\n",
    "df2 = pd.read_csv('E:\\市府地段率專案\\抓到的資料\\台南市停車場資料\\臺南市公有收費停車場.csv', encoding='utf-8')\n",
    "df3 = pd.read_csv('E:\\市府地段率專案\\抓到的資料\\台南市停車場資料\\臺南市民營停車場.csv', encoding='utf-8')\n",
    "df = pd.concat([df1,df2,df3])\n",
    "for DIST in TAINAN_DIST:\n",
    "    # if not ('臺南市' in address or '台南市' in address):\n",
    "    DIST_df = df[df['停車場地址'].str.contains(DIST)]\n",
    "    if DIST == '南區':\n",
    "        DIST_df = DIST_df[DIST_df['停車場地址'].str.contains('市南區')]\n",
    "    DIST_df.to_csv('E:\\市府地段率專案\\分區資料_綜合\\\\'+DIST+'\\停車場.csv',index=False, encoding='utf-8-sig')\n",
    "    print(DIST,len(DIST_df))"
   ]
  },
  {
   "cell_type": "markdown",
   "metadata": {},
   "source": [
    "## 寺廟"
   ]
  },
  {
   "cell_type": "code",
   "execution_count": 29,
   "metadata": {},
   "outputs": [
    {
     "name": "stdout",
     "output_type": "stream",
     "text": [
      "新營 36\n",
      "鹽水 47\n",
      "白河 75\n",
      "柳營 29\n",
      "後壁 53\n",
      "東山 74\n",
      "麻豆 69\n",
      "下營 40\n",
      "六甲 28\n",
      "官田 30\n",
      "大內 28\n",
      "佳里 78\n",
      "學甲 44\n",
      "西港 36\n",
      "七股 43\n",
      "將軍 33\n",
      "北門 46\n",
      "新化 53\n",
      "新市 38\n",
      "善化 41\n",
      "安定 31\n",
      "山上 15\n",
      "玉井 49\n",
      "楠西 18\n",
      "南化 54\n",
      "左鎮 30\n",
      "仁德 68\n",
      "歸仁 46\n",
      "關廟 51\n",
      "龍崎 27\n",
      "永康 77\n",
      "東區 225\n",
      "南區 80\n",
      "中西區 93\n",
      "北區 137\n",
      "安南 76\n",
      "安平 48\n"
     ]
    }
   ],
   "source": [
    "df1 = pd.read_csv('E:\\市府地段率專案\\抓到的資料\\寺廟、宗祠、宗祠基金會\\\\temple.csv', encoding='utf-8')\n",
    "df = pd.concat([df1])\n",
    "for DIST in TAINAN_DIST:\n",
    "    # if not ('臺南市' in address or '台南市' in address):\n",
    "    DIST_df = df[df['地址'].str.contains(DIST)]\n",
    "    if DIST == '南區':\n",
    "        DIST_df = DIST_df[DIST_df['地址'].str.contains('市南區')]\n",
    "    DIST_df.to_csv('E:\\市府地段率專案\\分區資料_綜合\\\\'+DIST+'\\寺廟.csv',index=False, encoding='utf-8-sig')\n",
    "    print(DIST,len(DIST_df))"
   ]
  },
  {
   "cell_type": "markdown",
   "metadata": {},
   "source": [
    "## 宗祠、宗祠基金會(台南沒有)"
   ]
  },
  {
   "cell_type": "code",
   "execution_count": 31,
   "metadata": {},
   "outputs": [
    {
     "name": "stdout",
     "output_type": "stream",
     "text": [
      "新營 0\n",
      "鹽水 0\n",
      "白河 0\n",
      "柳營 0\n",
      "後壁 0\n",
      "東山 0\n",
      "麻豆 0\n",
      "下營 0\n",
      "六甲 0\n",
      "官田 0\n",
      "大內 0\n",
      "佳里 0\n",
      "學甲 0\n",
      "西港 0\n",
      "七股 0\n",
      "將軍 0\n",
      "北門 0\n",
      "新化 0\n",
      "新市 0\n",
      "善化 0\n",
      "安定 0\n",
      "山上 0\n",
      "玉井 0\n",
      "楠西 0\n",
      "南化 0\n",
      "左鎮 0\n",
      "仁德 0\n",
      "歸仁 0\n",
      "關廟 0\n",
      "龍崎 0\n",
      "永康 0\n",
      "東區 0\n",
      "南區 0\n",
      "中西區 0\n",
      "北區 0\n",
      "安南 0\n",
      "安平 0\n"
     ]
    }
   ],
   "source": [
    "df1 = pd.read_csv('E:\\市府地段率專案\\抓到的資料\\寺廟、宗祠、宗祠基金會\\\\Ancestral-F.csv', encoding='utf-8')\n",
    "df2 = pd.read_csv('E:\\市府地段率專案\\抓到的資料\\寺廟、宗祠、宗祠基金會\\\\Ancestral.csv', encoding='utf-8')\n",
    "df = pd.concat([df1])\n",
    "for DIST in TAINAN_DIST:\n",
    "    # if not ('臺南市' in address or '台南市' in address):\n",
    "    DIST_df = df[df['地址'].str.contains(DIST)]\n",
    "    if DIST == '南區':\n",
    "        DIST_df = DIST_df[DIST_df['地址'].str.contains('市南區')]\n",
    "    # DIST_df.to_csv('E:\\市府地段率專案\\分區資料_綜合\\\\'+DIST+'\\宗祠、宗祠基金會.csv',index=False, encoding='utf-8-sig')\n",
    "    print(DIST,len(DIST_df))"
   ]
  },
  {
   "cell_type": "markdown",
   "metadata": {},
   "source": [
    "## 補習班"
   ]
  },
  {
   "cell_type": "code",
   "execution_count": 2,
   "metadata": {},
   "outputs": [
    {
     "name": "stdout",
     "output_type": "stream",
     "text": [
      "新營 64\n",
      "鹽水 6\n",
      "白河 10\n",
      "柳營 3\n",
      "後壁 2\n",
      "東山 2\n",
      "麻豆 27\n",
      "下營 9\n",
      "六甲 13\n",
      "官田 7\n",
      "大內 1\n",
      "佳里 54\n",
      "學甲 12\n",
      "西港 13\n",
      "七股 1\n",
      "將軍 3\n",
      "北門 9\n",
      "新化 33\n",
      "新市 38\n",
      "善化 35\n",
      "安定 14\n",
      "山上 3\n",
      "玉井 8\n",
      "楠西 3\n",
      "南化 0\n",
      "左鎮 0\n",
      "仁德 25\n",
      "歸仁 53\n",
      "關廟 10\n",
      "龍崎 0\n",
      "永康 207\n",
      "東區 276\n",
      "南區 60\n",
      "中西區 101\n",
      "北區 128\n",
      "安南 136\n",
      "安平 67\n"
     ]
    }
   ],
   "source": [
    "df = pd.read_csv('E:\\市府地段率專案\\抓到的資料\\補習班\\立案短期補習班基本資料_有地址.csv', encoding='utf-8')\n",
    "for DIST in TAINAN_DIST:\n",
    "    # if not ('臺南市' in address or '台南市' in address):\n",
    "    DIST_df = df[df['地址'].str.contains(DIST)]\n",
    "    if DIST == '南區':\n",
    "        DIST_df = DIST_df[~DIST_df['地址'].str.contains('安南區')]\n",
    "    DIST_df.to_csv('E:\\市府地段率專案\\分區資料_綜合\\\\'+DIST+'\\短期補習班.csv',index=False, encoding='utf-8-sig')\n",
    "    print(DIST,len(DIST_df))"
   ]
  },
  {
   "cell_type": "markdown",
   "metadata": {},
   "source": [
    "## 醫院"
   ]
  },
  {
   "cell_type": "code",
   "execution_count": 35,
   "metadata": {},
   "outputs": [
    {
     "name": "stdout",
     "output_type": "stream",
     "text": [
      "新營 4\n",
      "鹽水 0\n",
      "白河 1\n",
      "柳營 1\n",
      "後壁 0\n",
      "東山 0\n",
      "麻豆 1\n",
      "下營 0\n",
      "六甲 0\n",
      "官田 0\n",
      "大內 0\n",
      "佳里 2\n",
      "學甲 0\n",
      "西港 0\n",
      "七股 0\n",
      "將軍 0\n",
      "北門 0\n",
      "新化 2\n",
      "新市 0\n",
      "善化 1\n",
      "安定 0\n",
      "山上 0\n",
      "玉井 0\n",
      "楠西 0\n",
      "南化 0\n",
      "左鎮 0\n",
      "仁德 2\n",
      "歸仁 0\n",
      "關廟 1\n",
      "龍崎 0\n",
      "永康 5\n",
      "東區 3\n",
      "南區 0\n",
      "中西區 7\n",
      "北區 5\n",
      "安南 1\n",
      "安平 0\n"
     ]
    }
   ],
   "source": [
    "df = pd.read_csv('E:\\市府地段率專案\\實驗室資料\\\\202110\\台南\\F_Medical.csv', encoding='utf-8')\n",
    "for DIST in TAINAN_DIST:\n",
    "    # if not ('臺南市' in address or '台南市' in address):\n",
    "    DIST_df = df[df['縣市鄉鎮'].str.contains(DIST)]\n",
    "    if DIST == '南區':\n",
    "        DIST_df = DIST_df[~DIST_df['縣市鄉鎮'].str.contains('安南區')]\n",
    "    DIST_df = DIST_df[DIST_df['型態別'].str.contains('醫院')]\n",
    "    DIST_df.to_csv('E:\\市府地段率專案\\分區資料_綜合\\\\'+DIST+'\\醫院.csv',index=False, encoding='utf-8-sig')\n",
    "    print(DIST,len(DIST_df))"
   ]
  },
  {
   "cell_type": "markdown",
   "metadata": {},
   "source": [
    "## 診所"
   ]
  },
  {
   "cell_type": "code",
   "execution_count": 36,
   "metadata": {},
   "outputs": [
    {
     "name": "stdout",
     "output_type": "stream",
     "text": [
      "新營 111\n",
      "鹽水 16\n",
      "白河 21\n",
      "柳營 3\n",
      "後壁 9\n",
      "東山 7\n",
      "麻豆 46\n",
      "下營 14\n",
      "六甲 14\n",
      "官田 7\n",
      "大內 3\n",
      "佳里 63\n",
      "學甲 15\n",
      "西港 7\n",
      "七股 3\n",
      "將軍 5\n",
      "北門 3\n",
      "新化 33\n",
      "新市 30\n",
      "善化 46\n",
      "安定 8\n",
      "山上 2\n",
      "玉井 11\n",
      "楠西 4\n",
      "南化 2\n",
      "左鎮 1\n",
      "仁德 49\n",
      "歸仁 59\n",
      "關廟 17\n",
      "龍崎 0\n",
      "永康 234\n",
      "東區 316\n",
      "南區 142\n",
      "中西區 197\n",
      "北區 211\n",
      "安南 124\n",
      "安平 76\n"
     ]
    }
   ],
   "source": [
    "df = pd.read_csv('E:\\市府地段率專案\\實驗室資料\\\\202110\\台南\\F_Medical.csv', encoding='utf-8')\n",
    "for DIST in TAINAN_DIST:\n",
    "    # if not ('臺南市' in address or '台南市' in address):\n",
    "    DIST_df = df[df['縣市鄉鎮'].str.contains(DIST)]\n",
    "    if DIST == '南區':\n",
    "        DIST_df = DIST_df[~DIST_df['縣市鄉鎮'].str.contains('安南區')]\n",
    "    DIST_df = DIST_df[DIST_df['型態別'].str.contains('診所')]\n",
    "    DIST_df.to_csv('E:\\市府地段率專案\\分區資料_綜合\\\\'+DIST+'\\診所.csv',index=False, encoding='utf-8-sig')\n",
    "    print(DIST,len(DIST_df))"
   ]
  },
  {
   "cell_type": "markdown",
   "metadata": {},
   "source": [
    "## ATM"
   ]
  },
  {
   "cell_type": "code",
   "execution_count": 37,
   "metadata": {},
   "outputs": [
    {
     "name": "stdout",
     "output_type": "stream",
     "text": [
      "新營 64\n",
      "鹽水 14\n",
      "白河 18\n",
      "柳營 17\n",
      "後壁 10\n",
      "東山 9\n",
      "麻豆 32\n",
      "下營 6\n",
      "六甲 8\n",
      "官田 17\n",
      "大內 5\n",
      "佳里 34\n",
      "學甲 10\n",
      "西港 11\n",
      "七股 6\n",
      "將軍 7\n",
      "北門 17\n",
      "新化 25\n",
      "新市 81\n",
      "善化 58\n",
      "安定 17\n",
      "山上 6\n",
      "玉井 8\n",
      "楠西 7\n",
      "南化 4\n",
      "左鎮 2\n",
      "仁德 79\n",
      "歸仁 42\n",
      "關廟 18\n",
      "龍崎 4\n",
      "永康 205\n",
      "東區 149\n",
      "南區 81\n",
      "中西區 120\n",
      "北區 99\n",
      "安南 110\n",
      "安平 49\n"
     ]
    }
   ],
   "source": [
    "df = pd.read_csv('E:\\市府地段率專案\\實驗室資料\\\\202110\\台南\\M_ATM.csv', encoding='utf-8')\n",
    "for DIST in TAINAN_DIST:\n",
    "    # if not ('臺南市' in address or '台南市' in address):\n",
    "    DIST_df = df[df['裝設地址'].str.contains(DIST)]\n",
    "    if DIST == '南區':\n",
    "        DIST_df = DIST_df[~DIST_df['裝設地址'].str.contains('安南區')]\n",
    "    DIST_df.to_csv('E:\\市府地段率專案\\分區資料_綜合\\\\'+DIST+'\\ATM.csv',index=False, encoding='utf-8-sig')\n",
    "    print(DIST,len(DIST_df))"
   ]
  },
  {
   "cell_type": "markdown",
   "metadata": {},
   "source": [
    "## 腳踏車站(未完成，需要手動分區(公車也是))"
   ]
  },
  {
   "cell_type": "code",
   "execution_count": 39,
   "metadata": {},
   "outputs": [],
   "source": [
    "for DIST in TAINAN_DIST:\n",
    "    os.remove('E:\\市府地段率專案\\分區資料_綜合\\\\'+DIST+'\\腳踏車站.csv')"
   ]
  },
  {
   "cell_type": "code",
   "execution_count": 38,
   "metadata": {},
   "outputs": [
    {
     "name": "stdout",
     "output_type": "stream",
     "text": [
      "新營 2\n",
      "鹽水 0\n",
      "白河 0\n",
      "柳營 0\n",
      "後壁 0\n",
      "東山 0\n",
      "麻豆 0\n",
      "下營 0\n",
      "六甲 0\n",
      "官田 0\n",
      "大內 0\n",
      "佳里 0\n",
      "學甲 0\n",
      "西港 0\n",
      "七股 0\n",
      "將軍 0\n",
      "北門 0\n",
      "新化 1\n",
      "新市 0\n",
      "善化 0\n",
      "安定 0\n",
      "山上 0\n",
      "玉井 0\n",
      "楠西 0\n",
      "南化 0\n",
      "左鎮 0\n",
      "仁德 0\n",
      "歸仁 1\n",
      "關廟 0\n",
      "龍崎 0\n",
      "永康 0\n",
      "東區 0\n",
      "南區 1\n",
      "中西區 0\n",
      "北區 0\n",
      "安南 0\n",
      "安平 1\n"
     ]
    }
   ],
   "source": [
    "df = pd.read_csv('E:\\市府地段率專案\\實驗室資料\\\\202110\\台南\\M_Bike_Station.csv', encoding='utf-8')\n",
    "for DIST in TAINAN_DIST:\n",
    "    # if not ('臺南市' in address or '台南市' in address):\n",
    "    DIST_df = df[df['站點地址'].str.contains(DIST)]\n",
    "    if DIST == '南區':\n",
    "        DIST_df = DIST_df[~DIST_df['站點地址'].str.contains('安南區')]\n",
    "    DIST_df.to_csv('E:\\市府地段率專案\\分區資料_綜合\\\\'+DIST+'\\腳踏車站.csv',index=False, encoding='utf-8-sig')\n",
    "    print(DIST,len(DIST_df))"
   ]
  },
  {
   "cell_type": "markdown",
   "metadata": {},
   "source": [
    "## 公司"
   ]
  },
  {
   "cell_type": "code",
   "execution_count": 40,
   "metadata": {},
   "outputs": [
    {
     "name": "stdout",
     "output_type": "stream",
     "text": [
      "新營 139\n",
      "鹽水 2\n",
      "白河 2\n",
      "柳營 2\n",
      "後壁 263\n",
      "東山 0\n",
      "麻豆 958\n",
      "下營 67\n",
      "六甲 109\n",
      "官田 78\n",
      "大內 0\n",
      "佳里 1425\n",
      "學甲 196\n",
      "西港 596\n",
      "七股 157\n",
      "將軍 89\n",
      "北門 193\n",
      "新化 1032\n",
      "新市 1848\n",
      "善化 1459\n",
      "安定 1286\n",
      "山上 137\n",
      "玉井 0\n",
      "楠西 3\n",
      "南化 0\n",
      "左鎮 5\n",
      "仁德 4667\n",
      "歸仁 2161\n",
      "關廟 940\n",
      "龍崎 27\n",
      "永康 10561\n",
      "東區 5228\n",
      "南區 3741\n",
      "中西區 2657\n",
      "北區 3959\n",
      "安南 6938\n",
      "安平 2691\n"
     ]
    }
   ],
   "source": [
    "df = pd.read_csv('E:\\市府地段率專案\\實驗室資料\\\\202110\\台南\\M_Company.csv', encoding='utf-8')\n",
    "for DIST in TAINAN_DIST:\n",
    "    # if not ('臺南市' in address or '台南市' in address):\n",
    "    DIST_df = df[df['地址'].str.contains(DIST)]\n",
    "    if DIST == '南區':\n",
    "        DIST_df = DIST_df[~DIST_df['地址'].str.contains('安南區')]\n",
    "    DIST_df.to_csv('E:\\市府地段率專案\\分區資料_綜合\\\\'+DIST+'\\公司.csv',index=False, encoding='utf-8-sig')\n",
    "    print(DIST,len(DIST_df))"
   ]
  },
  {
   "cell_type": "markdown",
   "metadata": {},
   "source": [
    "## 工廠"
   ]
  },
  {
   "cell_type": "code",
   "execution_count": 42,
   "metadata": {},
   "outputs": [
    {
     "name": "stdout",
     "output_type": "stream",
     "text": [
      "新營 47\n",
      "鹽水 0\n",
      "白河 0\n",
      "柳營 0\n",
      "後壁 9\n",
      "東山 0\n",
      "麻豆 158\n",
      "下營 11\n",
      "六甲 8\n",
      "官田 13\n",
      "大內 0\n",
      "佳里 216\n",
      "學甲 37\n",
      "西港 150\n",
      "七股 36\n",
      "將軍 11\n",
      "北門 0\n",
      "新化 109\n",
      "新市 366\n",
      "善化 191\n",
      "安定 293\n",
      "山上 74\n",
      "玉井 0\n",
      "楠西 0\n",
      "南化 0\n",
      "左鎮 0\n",
      "仁德 1264\n",
      "歸仁 296\n",
      "關廟 178\n",
      "龍崎 4\n",
      "永康 2499\n",
      "東區 122\n",
      "南區 642\n",
      "中西區 78\n",
      "北區 176\n",
      "安南 1225\n",
      "安平 49\n"
     ]
    }
   ],
   "source": [
    "df = pd.read_csv('E:\\市府地段率專案\\實驗室資料\\\\202110\\台南\\M_Factory.csv', encoding='utf-8')\n",
    "for DIST in TAINAN_DIST:\n",
    "    # if not ('臺南市' in address or '台南市' in address):\n",
    "    DIST_df = df[df['地址'].str.contains(DIST)]\n",
    "    if DIST == '南區':\n",
    "        DIST_df = DIST_df[~DIST_df['地址'].str.contains('安南區')]\n",
    "    DIST_df.to_csv('E:\\市府地段率專案\\分區資料_綜合\\\\'+DIST+'\\工廠.csv',index=False, encoding='utf-8-sig')\n",
    "    print(DIST,len(DIST_df))"
   ]
  },
  {
   "cell_type": "markdown",
   "metadata": {},
   "source": [
    "## 銀行"
   ]
  },
  {
   "cell_type": "code",
   "execution_count": 43,
   "metadata": {},
   "outputs": [
    {
     "name": "stdout",
     "output_type": "stream",
     "text": [
      "新營 21\n",
      "鹽水 5\n",
      "白河 7\n",
      "柳營 5\n",
      "後壁 7\n",
      "東山 5\n",
      "麻豆 7\n",
      "下營 4\n",
      "六甲 3\n",
      "官田 6\n",
      "大內 4\n",
      "佳里 13\n",
      "學甲 9\n",
      "西港 4\n",
      "七股 3\n",
      "將軍 7\n",
      "北門 7\n",
      "新化 5\n",
      "新市 8\n",
      "善化 8\n",
      "安定 6\n",
      "山上 1\n",
      "玉井 2\n",
      "楠西 1\n",
      "南化 1\n",
      "左鎮 1\n",
      "仁德 14\n",
      "歸仁 9\n",
      "關廟 4\n",
      "龍崎 2\n",
      "永康 43\n",
      "東區 35\n",
      "南區 18\n",
      "中西區 51\n",
      "北區 24\n",
      "安南 21\n",
      "安平 6\n"
     ]
    }
   ],
   "source": [
    "df = pd.read_csv('E:\\市府地段率專案\\實驗室資料\\\\202110\\台南\\M_Financial.csv', encoding='utf-8')\n",
    "for DIST in TAINAN_DIST:\n",
    "    # if not ('臺南市' in address or '台南市' in address):\n",
    "    DIST_df = df[df['地址'].str.contains(DIST)]\n",
    "    if DIST == '南區':\n",
    "        DIST_df = DIST_df[~DIST_df['地址'].str.contains('安南區')]\n",
    "    DIST_df.to_csv('E:\\市府地段率專案\\分區資料_綜合\\\\'+DIST+'\\銀行.csv',index=False, encoding='utf-8-sig')\n",
    "    print(DIST,len(DIST_df))"
   ]
  },
  {
   "cell_type": "markdown",
   "metadata": {},
   "source": [
    "## 郵局"
   ]
  },
  {
   "cell_type": "code",
   "execution_count": 44,
   "metadata": {},
   "outputs": [
    {
     "name": "stdout",
     "output_type": "stream",
     "text": [
      "新營 5\n",
      "鹽水 2\n",
      "白河 3\n",
      "柳營 2\n",
      "後壁 3\n",
      "東山 2\n",
      "麻豆 3\n",
      "下營 2\n",
      "六甲 1\n",
      "官田 2\n",
      "大內 1\n",
      "佳里 3\n",
      "學甲 1\n",
      "西港 1\n",
      "七股 1\n",
      "將軍 1\n",
      "北門 1\n",
      "新化 2\n",
      "新市 4\n",
      "善化 4\n",
      "安定 1\n",
      "山上 1\n",
      "玉井 1\n",
      "楠西 2\n",
      "南化 1\n",
      "左鎮 1\n",
      "仁德 5\n",
      "歸仁 2\n",
      "關廟 2\n",
      "龍崎 1\n",
      "永康 9\n",
      "東區 7\n",
      "南區 6\n",
      "中西區 7\n",
      "北區 6\n",
      "安南 6\n",
      "安平 5\n"
     ]
    }
   ],
   "source": [
    "df = pd.read_csv('E:\\市府地段率專案\\實驗室資料\\\\202110\\台南\\M_Post_Office.csv', encoding='utf-8')\n",
    "for DIST in TAINAN_DIST:\n",
    "    # if not ('臺南市' in address or '台南市' in address):\n",
    "    DIST_df = df[df['局址'].str.contains(DIST)]\n",
    "    if DIST == '南區':\n",
    "        DIST_df = DIST_df[~DIST_df['局址'].str.contains('安南區')]\n",
    "    DIST_df.to_csv('E:\\市府地段率專案\\分區資料_綜合\\\\'+DIST+'\\郵局.csv',index=False, encoding='utf-8-sig')\n",
    "    print(DIST,len(DIST_df))"
   ]
  },
  {
   "cell_type": "markdown",
   "metadata": {},
   "source": [
    "## 火車站"
   ]
  },
  {
   "cell_type": "code",
   "execution_count": 45,
   "metadata": {},
   "outputs": [
    {
     "name": "stdout",
     "output_type": "stream",
     "text": [
      "新營 1\n",
      "鹽水 0\n",
      "白河 0\n",
      "柳營 1\n",
      "後壁 1\n",
      "東山 0\n",
      "麻豆 0\n",
      "下營 0\n",
      "六甲 1\n",
      "官田 2\n",
      "大內 0\n",
      "佳里 0\n",
      "學甲 0\n",
      "西港 0\n",
      "七股 0\n",
      "將軍 0\n",
      "北門 1\n",
      "新化 0\n",
      "新市 2\n",
      "善化 1\n",
      "安定 0\n",
      "山上 0\n",
      "玉井 0\n",
      "楠西 0\n",
      "南化 0\n",
      "左鎮 0\n",
      "仁德 3\n",
      "歸仁 2\n",
      "關廟 0\n",
      "龍崎 0\n",
      "永康 2\n",
      "東區 1\n",
      "南區 0\n",
      "中西區 0\n",
      "北區 0\n",
      "安南 0\n",
      "安平 0\n"
     ]
    }
   ],
   "source": [
    "df = pd.read_csv('E:\\市府地段率專案\\實驗室資料\\\\202110\\台南\\M_Train_Station.csv', encoding='utf-8')\n",
    "for DIST in TAINAN_DIST:\n",
    "    # if not ('臺南市' in address or '台南市' in address):\n",
    "    DIST_df = df[df['站點地址'].str.contains(DIST)]\n",
    "    if DIST == '南區':\n",
    "        DIST_df = DIST_df[~DIST_df['站點地址'].str.contains('安南區')]\n",
    "    DIST_df.to_csv('E:\\市府地段率專案\\分區資料_綜合\\\\'+DIST+'\\火車站.csv',index=False, encoding='utf-8-sig')\n",
    "    print(DIST,len(DIST_df))"
   ]
  },
  {
   "cell_type": "markdown",
   "metadata": {},
   "source": [
    "## 大學"
   ]
  },
  {
   "cell_type": "code",
   "execution_count": 46,
   "metadata": {},
   "outputs": [
    {
     "name": "stdout",
     "output_type": "stream",
     "text": [
      "新營 0\n",
      "鹽水 0\n",
      "白河 0\n",
      "柳營 0\n",
      "後壁 0\n",
      "東山 0\n",
      "麻豆 0\n",
      "下營 0\n",
      "六甲 0\n",
      "官田 0\n",
      "大內 0\n",
      "佳里 0\n",
      "學甲 0\n",
      "西港 0\n",
      "七股 0\n",
      "將軍 0\n",
      "北門 0\n",
      "新化 0\n",
      "新市 0\n",
      "善化 0\n",
      "安定 0\n",
      "山上 0\n",
      "玉井 0\n",
      "楠西 0\n",
      "南化 0\n",
      "左鎮 0\n",
      "仁德 0\n",
      "歸仁 0\n",
      "關廟 0\n",
      "龍崎 0\n",
      "永康 0\n",
      "東區 5\n",
      "南區 0\n",
      "中西區 10\n",
      "北區 0\n",
      "安南 4\n",
      "安平 0\n"
     ]
    }
   ],
   "source": [
    "df = pd.read_csv('E:\\市府地段率專案\\實驗室資料\\\\202110\\台南\\AY_College.csv', encoding='utf-8')\n",
    "for DIST in TAINAN_DIST:\n",
    "    # if not ('臺南市' in address or '台南市' in address):\n",
    "    DIST_df = df[df['經緯度轉地址'].str.contains(DIST)]\n",
    "    if DIST == '南區':\n",
    "        DIST_df = DIST_df[~DIST_df['經緯度轉地址'].str.contains('安南區')]\n",
    "    DIST_df.to_csv('E:\\市府地段率專案\\分區資料_綜合\\\\'+DIST+'\\大學.csv',index=False, encoding='utf-8-sig')\n",
    "    print(DIST,len(DIST_df))"
   ]
  },
  {
   "cell_type": "markdown",
   "metadata": {},
   "source": [
    "## "
   ]
  },
  {
   "cell_type": "markdown",
   "metadata": {},
   "source": [
    "## 取代國高中小錯誤的資料"
   ]
  },
  {
   "cell_type": "code",
   "execution_count": 68,
   "metadata": {},
   "outputs": [],
   "source": [
    "df = pd.read_csv('E:\\市府地段率專案\\實驗室資料\\\\202110\\台南\\AY_Elementary.csv', encoding='utf-8')\n",
    "df_right = pd.read_csv('E:\\市府地段率專案\\實驗室資料\\\\202110\\台南\\AY_Elementary_right.csv', encoding='utf-8')\n",
    "df_correct = pd.merge(df,df_right, on=['Unnamed: 0', '匯入時間', '統計時間', '縣市代碼', '縣市名稱', '學校代碼', '學校名稱', '1年級班級數',\n",
    "       '2年級班級數', '3年級班級數', '4年級班級數', '5年級班級數', '6年級班級數', '1年級男學生數', '1年級女學生數',\n",
    "       '2年級男學生數', '2年級女學生數', '3年級男學生數', '3年級女學生數', '4年級男學生數', '4年級女學生數',\n",
    "       '5年級男學生數', '5年級女學生數', '6年級男學生數', '6年級女學生數', '上學年男畢業生', '上學年女畢業生',\n",
    "       '男專任教師', '女專任教師', '男職員', '女職員'])\n",
    "lat = {}\n",
    "for i,x in enumerate(zip(list(df_correct['lat_x']),list(df_correct['lat_y']))):\n",
    "    lat[x[0]]=x[1]\n",
    "lng = {}\n",
    "for i,x in enumerate(zip(list(df_correct['lng_x']),list(df_correct['lng_y']))):\n",
    "    lng[x[0]]=x[1]\n",
    "df = df.replace(lng)\n",
    "df = df.replace(lat)\n",
    "df.to_csv('E:\\市府地段率專案\\實驗室資料\\\\202110\\台南\\AY_Elementary_all_correct.csv',index=False, encoding='utf-8-sig')"
   ]
  },
  {
   "cell_type": "code",
   "execution_count": 73,
   "metadata": {},
   "outputs": [],
   "source": [
    "df = pd.read_csv('E:\\市府地段率專案\\實驗室資料\\\\202110\\台南\\AY_High_School.csv', encoding='utf-8')\n",
    "df_right = pd.read_csv('E:\\市府地段率專案\\實驗室資料\\\\202110\\台南\\AY_High_School_right.csv', encoding='utf-8')\n",
    "df_correct = pd.merge(df,df_right, on=['Unnamed: 0', '匯入時間', '統計時間', '縣市代碼', '縣市名稱', '學校代碼', '學校名稱', '專任教師數男',\n",
    "       '專任教師數女', '兼任教師數男', '兼任教師數女', '職員數男', '職員數女', '班級數', '學生數男', '學生數女',\n",
    "       '上學年畢業生數男', '上學年畢業生數女'])\n",
    "lat = {}\n",
    "for i,x in enumerate(zip(list(df_correct['lat_x']),list(df_correct['lat_y']))):\n",
    "    lat[x[0]]=x[1]\n",
    "lng = {}\n",
    "for i,x in enumerate(zip(list(df_correct['lng_x']),list(df_correct['lng_y']))):\n",
    "    lng[x[0]]=x[1]\n",
    "df = df.replace(lng)\n",
    "df = df.replace(lat)\n",
    "df.to_csv('E:\\市府地段率專案\\實驗室資料\\\\202110\\台南\\AY_High_School_correct.csv',index=False, encoding='utf-8-sig')"
   ]
  },
  {
   "cell_type": "code",
   "execution_count": 74,
   "metadata": {},
   "outputs": [],
   "source": [
    "df = pd.read_csv('E:\\市府地段率專案\\實驗室資料\\\\202110\\台南\\AY_Junior_High.csv', encoding='utf-8')\n",
    "df_right = pd.read_csv('E:\\市府地段率專案\\實驗室資料\\\\202110\\台南\\AY_Junior_High_right.csv', encoding='utf-8')\n",
    "df_correct = pd.merge(df,df_right,how='outer',on=['Unnamed: 0', '匯入時間', '統計時間', '縣市代碼', '縣市名稱', '學校代碼', '學校名稱', '班級數7年級',\n",
    "       '班級數8年級', '班級數9年級', '學生數7年級男', '學生數7年級女', '學生數8年級男', '學生數8年級女',\n",
    "       '學生數9年級男', '學生數9年級女', '上學年男畢業生', '上學年女畢業生', '男專任教師', '女專任教師', '男職員',\n",
    "       '女職員'])\n",
    "lat = {}\n",
    "for i,x in enumerate(zip(list(df_correct['lat_x']),list(df_correct['lat_y']))):\n",
    "    lat[x[0]]=x[1]\n",
    "lng = {}\n",
    "for i,x in enumerate(zip(list(df_correct['lng_x']),list(df_correct['lng_y']))):\n",
    "    lng[x[0]]=x[1]\n",
    "df = df.replace(lng)\n",
    "df = df.replace(lat)\n",
    "df.to_csv('E:\\市府地段率專案\\實驗室資料\\\\202110\\台南\\AY_Junior_High_correct.csv',index=False, encoding='utf-8-sig')"
   ]
  },
  {
   "cell_type": "markdown",
   "metadata": {},
   "source": [
    "## 國小"
   ]
  },
  {
   "cell_type": "code",
   "execution_count": null,
   "metadata": {},
   "outputs": [],
   "source": [
    "df = pd.read_csv('E:\\市府地段率專案\\實驗室資料\\\\202110\\台南\\M_Company.csv', encoding='utf-8')\n",
    "for DIST in TAINAN_DIST:\n",
    "    # if not ('臺南市' in address or '台南市' in address):\n",
    "    DIST_df = df[df['地址'].str.contains(DIST)]\n",
    "    if DIST == '南區':\n",
    "        DIST_df = DIST_df[~DIST_df['地址'].str.contains('安南區')]\n",
    "    DIST_df.to_csv('E:\\市府地段率專案\\分區資料_綜合\\\\'+DIST+'\\公司.csv',index=False, encoding='utf-8-sig')\n",
    "    print(DIST,len(DIST_df))"
   ]
  }
 ],
 "metadata": {
  "kernelspec": {
   "display_name": "Python 3.9.12 ('base')",
   "language": "python",
   "name": "python3"
  },
  "language_info": {
   "codemirror_mode": {
    "name": "ipython",
    "version": 3
   },
   "file_extension": ".py",
   "mimetype": "text/x-python",
   "name": "python",
   "nbconvert_exporter": "python",
   "pygments_lexer": "ipython3",
   "version": "3.9.12"
  },
  "orig_nbformat": 4,
  "vscode": {
   "interpreter": {
    "hash": "0c9a1f7472274fa4c180ec6084d12979c10d68d9c92bbcd3af2c905ed5d10a5a"
   }
  }
 },
 "nbformat": 4,
 "nbformat_minor": 2
}
